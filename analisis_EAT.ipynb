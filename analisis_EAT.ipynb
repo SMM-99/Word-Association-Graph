{
 "cells": [
  {
   "cell_type": "markdown",
   "source": [
    "# Importación de librerías"
   ],
   "metadata": {
    "collapsed": false
   },
   "id": "de73c1f53514fcf5"
  },
  {
   "cell_type": "code",
   "execution_count": 1,
   "id": "initial_id",
   "metadata": {
    "collapsed": true,
    "ExecuteTime": {
     "end_time": "2024-05-17T07:26:50.842478300Z",
     "start_time": "2024-05-17T07:26:48.773236800Z"
    }
   },
   "outputs": [],
   "source": [
    "import matplotlib.pyplot as plt\n",
    "import networkx as nx\n",
    "import powerlaw"
   ]
  },
  {
   "cell_type": "markdown",
   "source": [
    "# Lectura de grafos"
   ],
   "metadata": {
    "collapsed": false
   },
   "id": "d0e3ba8e54508d62"
  },
  {
   "cell_type": "code",
   "execution_count": 3,
   "outputs": [],
   "source": [
    "G = nx.read_pajek(\"Redes/EATnew_undir.net\")\n",
    "G2 = nx.read_gml(\"Red Diccionario/Oxford_Dict_Graph_Adj.gml\")\n",
    "G = nx.Graph(G)"
   ],
   "metadata": {
    "collapsed": false,
    "ExecuteTime": {
     "end_time": "2024-05-17T07:27:36.062750300Z",
     "start_time": "2024-05-17T07:27:06.937407500Z"
    }
   },
   "id": "81d0f4a2a60fc870"
  },
  {
   "cell_type": "markdown",
   "source": [
    "# Transformación de los nombres de los nodos"
   ],
   "metadata": {
    "collapsed": false
   },
   "id": "c00a1a79205221d6"
  },
  {
   "cell_type": "code",
   "execution_count": 4,
   "outputs": [],
   "source": [
    "mapping = dict(zip(G, [a.lower() for a in list(G.nodes())]))\n",
    "G = nx.relabel_nodes(G, mapping)"
   ],
   "metadata": {
    "collapsed": false,
    "ExecuteTime": {
     "end_time": "2024-05-17T07:27:37.298405400Z",
     "start_time": "2024-05-17T07:27:36.063743700Z"
    }
   },
   "id": "7c52e875325261f7"
  },
  {
   "cell_type": "markdown",
   "source": [
    "# Intersección de nodos"
   ],
   "metadata": {
    "collapsed": false
   },
   "id": "b8fad462d109ff12"
  },
  {
   "cell_type": "code",
   "execution_count": 5,
   "outputs": [],
   "source": [
    "nodes_dict=list(G2.nodes())\n",
    "nodes_assoc=list(G.nodes())\n",
    "nodes_subs=set(nodes_assoc).intersection(nodes_dict)\n",
    "\n",
    "G_OX=G2.subgraph(nodes_subs)\n",
    "G_EAT=G.subgraph(nodes_subs)"
   ],
   "metadata": {
    "collapsed": false,
    "ExecuteTime": {
     "end_time": "2024-05-17T07:27:37.321342500Z",
     "start_time": "2024-05-17T07:27:37.304494400Z"
    }
   },
   "id": "32fe75864c6ddbff"
  },
  {
   "cell_type": "markdown",
   "source": [
    "# Funciones de análisis"
   ],
   "metadata": {
    "collapsed": false
   },
   "id": "7e506fbbfe7be205"
  },
  {
   "cell_type": "code",
   "execution_count": 10,
   "outputs": [],
   "source": [
    "def imprime_info_grafo(G): \n",
    "    print('Número de nodos:', G.number_of_nodes())\n",
    "    print('Número de ejes:', G.number_of_edges())\n",
    "    print('Densidad:', nx.density(G))\n",
    "    print('Clustering medio:', nx.average_clustering(G))\n",
    "    #print(nx.average_degree_connectivity(G))\n",
    "    giant_component = max(nx.connected_components(G), key=len)\n",
    "    G_giant = G.subgraph(giant_component)\n",
    "    print('Número de nodos (componente gigante):', G_giant.number_of_nodes())\n",
    "    diameter_giant = nx.diameter(G_giant)\n",
    "    print('Diámetro:', diameter_giant)\n",
    "    \n",
    "def check_small_world(G):\n",
    "    print('Small world:', nx.sigma(G, niter=1, nrand=1))\n",
    "    \n",
    "def dibuja_distr_grado(G):\n",
    "    degree_counts = nx.degree_histogram(G)\n",
    "    degrees = range(len(degree_counts))\n",
    "    plt.figure()\n",
    "    plt.loglog(degrees, degree_counts, 'b.')\n",
    "    plt.xlabel('Degree')\n",
    "    plt.ylabel('Frequency')\n",
    "    plt.title('Degree distribution')\n",
    "    plt.show()"
   ],
   "metadata": {
    "collapsed": false,
    "ExecuteTime": {
     "end_time": "2024-05-17T15:56:51.817913900Z",
     "start_time": "2024-05-17T15:56:51.757283Z"
    }
   },
   "id": "c13d7d6641ed8a2a"
  },
  {
   "cell_type": "markdown",
   "source": [
    "# Análisis de la red EAT"
   ],
   "metadata": {
    "collapsed": false
   },
   "id": "32cf8ea898f46496"
  },
  {
   "cell_type": "code",
   "execution_count": 18,
   "outputs": [
    {
     "name": "stdout",
     "output_type": "stream",
     "text": [
      "Número de nodos: 2905\n",
      "Número de ejes: 15586\n",
      "Densidad: 0.0036950636074403872\n",
      "Clustering medio: 0.09579279900101276\n",
      "Número de nodos (componente gigante): 2458\n",
      "Diámetro: 7\n"
     ]
    }
   ],
   "source": [
    "imprime_info_grafo(G_EAT)"
   ],
   "metadata": {
    "collapsed": false,
    "ExecuteTime": {
     "end_time": "2024-05-16T11:09:51.819100300Z",
     "start_time": "2024-05-16T11:05:30.554747200Z"
    }
   },
   "id": "eec38ae3e97f829d"
  },
  {
   "cell_type": "markdown",
   "source": [
    "## Red de mundo pequeño"
   ],
   "metadata": {
    "collapsed": false
   },
   "id": "221e5e4519506b94"
  },
  {
   "cell_type": "code",
   "execution_count": 6,
   "outputs": [],
   "source": [
    "giant_component = max(nx.connected_components(G_EAT), key=len)\n",
    "G_giant = G_EAT.subgraph(giant_component)\n",
    "check_small_world(G_giant)"
   ],
   "metadata": {
    "collapsed": false,
    "ExecuteTime": {
     "end_time": "2024-05-17T07:27:37.953976100Z",
     "start_time": "2024-05-17T07:27:37.323336800Z"
    }
   },
   "id": "6d70ba15fce3d387"
  },
  {
   "cell_type": "markdown",
   "source": [
    "## Guardar redes intersecadas"
   ],
   "metadata": {
    "collapsed": false
   },
   "id": "25125587f7d0a6a8"
  },
  {
   "cell_type": "code",
   "execution_count": null,
   "outputs": [],
   "source": [
    "giant_component = max(nx.connected_components(G_EAT), key=len)\n",
    "G_giant = G_EAT.subgraph(giant_component)\n",
    "nx.write_gml(G_giant, \"Redes/EAT_giant.gml\")"
   ],
   "metadata": {
    "collapsed": false
   },
   "id": "4025c6fde5782338"
  },
  {
   "cell_type": "code",
   "execution_count": null,
   "outputs": [],
   "source": [
    "giant_component = max(nx.connected_components(G_OX), key=len)\n",
    "G_giant = G_OX.subgraph(giant_component)\n",
    "nx.write_gml(G_giant, \"Redes/OX_giant.gml\")"
   ],
   "metadata": {
    "collapsed": false
   },
   "id": "1ef181b09fa84ca6"
  },
  {
   "cell_type": "markdown",
   "source": [
    "## Page rank y grado de los nodos"
   ],
   "metadata": {
    "collapsed": false
   },
   "id": "7b2739b6e32f2fed"
  },
  {
   "cell_type": "code",
   "execution_count": 23,
   "outputs": [
    {
     "data": {
      "text/plain": "[('good', 0.00622523606338839),\n ('old', 0.004892322387933865),\n ('hard', 0.0045342328086869586),\n ('sad', 0.004086220583908753),\n ('red', 0.003405880701292117),\n ('happy', 0.0032607795096861593),\n ('bad', 0.003226350452158177),\n ('stupid', 0.003117920267730998),\n ('dead', 0.003087370216566532),\n ('fat', 0.003021913176395464)]"
     },
     "execution_count": 23,
     "metadata": {},
     "output_type": "execute_result"
    }
   ],
   "source": [
    "pr_adj = nx.pagerank(G_EAT)\n",
    "sorted_nodes_pr = sorted(pr_adj.items(), key=lambda x:x[1], reverse=True)\n",
    "sorted_nodes_pr[0:10]"
   ],
   "metadata": {
    "collapsed": false,
    "ExecuteTime": {
     "end_time": "2024-05-16T13:14:50.718899400Z",
     "start_time": "2024-05-16T13:14:49.895243400Z"
    }
   },
   "id": "ee00543470061482"
  },
  {
   "cell_type": "code",
   "execution_count": 24,
   "outputs": [
    {
     "data": {
      "text/plain": "[('good', 204),\n ('bad', 151),\n ('no', 145),\n ('hard', 121),\n ('happy', 99),\n ('stupid', 94),\n ('sad', 93),\n ('black', 93),\n ('old', 90),\n ('dead', 90)]"
     },
     "execution_count": 24,
     "metadata": {},
     "output_type": "execute_result"
    }
   ],
   "source": [
    "sorted(G_EAT.degree, key=lambda x: x[1], reverse=True)[0:10]"
   ],
   "metadata": {
    "collapsed": false,
    "ExecuteTime": {
     "end_time": "2024-05-16T13:14:51.527410Z",
     "start_time": "2024-05-16T13:14:51.412632500Z"
    }
   },
   "id": "faeec95c6c72c984"
  },
  {
   "cell_type": "markdown",
   "source": [
    "## Distribución de grados"
   ],
   "metadata": {
    "collapsed": false
   },
   "id": "56ff17f2177088b8"
  },
  {
   "cell_type": "code",
   "execution_count": 33,
   "outputs": [
    {
     "data": {
      "text/plain": "<Figure size 640x480 with 1 Axes>",
      "image/png": "[encoded data removed]"
     },
     "metadata": {},
     "output_type": "display_data"
    }
   ],
   "source": [
    "dibuja_distr_grado(G_EAT)"
   ],
   "metadata": {
    "collapsed": false,
    "ExecuteTime": {
     "end_time": "2024-05-16T13:39:03.671259Z",
     "start_time": "2024-05-16T13:39:02.790549900Z"
    }
   },
   "id": "af6e8de68179ac6b"
  },
  {
   "cell_type": "code",
   "execution_count": 66,
   "outputs": [
    {
     "name": "stderr",
     "output_type": "stream",
     "text": [
      "Values less than or equal to 0 in data. Throwing out 0 or negative values\n",
      "Calculating best minimal value for power law fit\n"
     ]
    },
    {
     "data": {
      "text/plain": "<Axes: >"
     },
     "execution_count": 66,
     "metadata": {},
     "output_type": "execute_result"
    },
    {
     "data": {
      "text/plain": "<Figure size 640x480 with 1 Axes>",
      "image/png": "[encoded data removed]"
     },
     "metadata": {},
     "output_type": "display_data"
    }
   ],
   "source": [
    "degree_sequence = sorted([d for n, d in G_EAT.degree()], reverse=True) \n",
    "fit = powerlaw.Fit(degree_sequence)\n",
    "fig2 = fit.plot_pdf(color='b', linewidth=2)\n",
    "fit.power_law.plot_pdf(color='g', linestyle='--', ax=fig2)"
   ],
   "metadata": {
    "collapsed": false,
    "ExecuteTime": {
     "end_time": "2024-05-16T19:04:37.075686800Z",
     "start_time": "2024-05-16T19:04:35.797166400Z"
    }
   },
   "id": "3853af12123ead35"
  },
  {
   "cell_type": "code",
   "execution_count": 63,
   "outputs": [
    {
     "name": "stdout",
     "output_type": "stream",
     "text": [
      "3.5957570079281296 24.0\n"
     ]
    }
   ],
   "source": [
    "# Imprime el valor de alpha y xmin\n",
    "print(fit.power_law.alpha, fit.power_law.xmin)"
   ],
   "metadata": {
    "collapsed": false,
    "ExecuteTime": {
     "end_time": "2024-05-16T16:03:44.525852400Z",
     "start_time": "2024-05-16T16:03:44.520568400Z"
    }
   },
   "id": "d147afd08f2336f2"
  },
  {
   "cell_type": "code",
   "execution_count": 69,
   "outputs": [
    {
     "name": "stdout",
     "output_type": "stream",
     "text": [
      "(14.981746817322962, 0.08528310887146591)\n",
      "(-1.145184572106114, 0.41161434616667014)\n"
     ]
    }
   ],
   "source": [
    "# Comparación del ajuste con otras distribuciones\n",
    "print(fit.distribution_compare('power_law', 'exponential'))\n",
    "print(fit.distribution_compare('power_law', 'lognormal_positive'))"
   ],
   "metadata": {
    "collapsed": false,
    "ExecuteTime": {
     "end_time": "2024-05-16T19:07:21.935972800Z",
     "start_time": "2024-05-16T19:07:21.894950Z"
    }
   },
   "id": "921809e9e6bf419"
  },
  {
   "cell_type": "markdown",
   "source": [
    "# Medidas de centralidad"
   ],
   "metadata": {
    "collapsed": false
   },
   "id": "38d072e5334f22af"
  },
  {
   "cell_type": "code",
   "execution_count": 78,
   "outputs": [
    {
     "ename": "KeyboardInterrupt",
     "evalue": "",
     "output_type": "error",
     "traceback": [
      "\u001B[1;31m---------------------------------------------------------------------------\u001B[0m",
      "\u001B[1;31mKeyboardInterrupt\u001B[0m                         Traceback (most recent call last)",
      "Cell \u001B[1;32mIn[78], line 1\u001B[0m\n\u001B[1;32m----> 1\u001B[0m betweenness \u001B[38;5;241m=\u001B[39m nx\u001B[38;5;241m.\u001B[39mbetweenness_centrality(G_EAT)\n\u001B[0;32m      2\u001B[0m sorted_nodes_betweenness \u001B[38;5;241m=\u001B[39m \u001B[38;5;28msorted\u001B[39m(betweenness\u001B[38;5;241m.\u001B[39mitems(), key\u001B[38;5;241m=\u001B[39m\u001B[38;5;28;01mlambda\u001B[39;00m x:x[\u001B[38;5;241m1\u001B[39m], reverse\u001B[38;5;241m=\u001B[39m\u001B[38;5;28;01mTrue\u001B[39;00m)\n\u001B[0;32m      3\u001B[0m sorted_nodes_betweenness[\u001B[38;5;241m0\u001B[39m:\u001B[38;5;241m10\u001B[39m]\n",
      "File \u001B[1;32m~\\miniconda3\\envs\\swes\\Lib\\site-packages\\networkx\\utils\\decorators.py:770\u001B[0m, in \u001B[0;36margmap.__call__.<locals>.func\u001B[1;34m(_argmap__wrapper, *args, **kwargs)\u001B[0m\n\u001B[0;32m    769\u001B[0m \u001B[38;5;28;01mdef\u001B[39;00m \u001B[38;5;21mfunc\u001B[39m(\u001B[38;5;241m*\u001B[39margs, __wrapper\u001B[38;5;241m=\u001B[39m\u001B[38;5;28;01mNone\u001B[39;00m, \u001B[38;5;241m*\u001B[39m\u001B[38;5;241m*\u001B[39mkwargs):\n\u001B[1;32m--> 770\u001B[0m     \u001B[38;5;28;01mreturn\u001B[39;00m argmap\u001B[38;5;241m.\u001B[39m_lazy_compile(__wrapper)(\u001B[38;5;241m*\u001B[39margs, \u001B[38;5;241m*\u001B[39m\u001B[38;5;241m*\u001B[39mkwargs)\n",
      "File \u001B[1;32m<class 'networkx.utils.decorators.argmap'> compilation 52:4\u001B[0m, in \u001B[0;36margmap_betweenness_centrality_49\u001B[1;34m(G, k, normalized, weight, endpoints, seed, backend, **backend_kwargs)\u001B[0m\n\u001B[0;32m      2\u001B[0m \u001B[38;5;28;01mimport\u001B[39;00m \u001B[38;5;21;01mcollections\u001B[39;00m\n\u001B[0;32m      3\u001B[0m \u001B[38;5;28;01mimport\u001B[39;00m \u001B[38;5;21;01mgzip\u001B[39;00m\n\u001B[1;32m----> 4\u001B[0m \u001B[38;5;28;01mimport\u001B[39;00m \u001B[38;5;21;01minspect\u001B[39;00m\n\u001B[0;32m      5\u001B[0m \u001B[38;5;28;01mimport\u001B[39;00m \u001B[38;5;21;01mitertools\u001B[39;00m\n\u001B[0;32m      6\u001B[0m \u001B[38;5;28;01mimport\u001B[39;00m \u001B[38;5;21;01mre\u001B[39;00m\n",
      "File \u001B[1;32m~\\miniconda3\\envs\\swes\\Lib\\site-packages\\networkx\\utils\\backends.py:412\u001B[0m, in \u001B[0;36m_dispatch.__call__\u001B[1;34m(self, backend, *args, **kwargs)\u001B[0m\n\u001B[0;32m    409\u001B[0m \u001B[38;5;28;01mdef\u001B[39;00m \u001B[38;5;21m__call__\u001B[39m(\u001B[38;5;28mself\u001B[39m, \u001B[38;5;241m/\u001B[39m, \u001B[38;5;241m*\u001B[39margs, backend\u001B[38;5;241m=\u001B[39m\u001B[38;5;28;01mNone\u001B[39;00m, \u001B[38;5;241m*\u001B[39m\u001B[38;5;241m*\u001B[39mkwargs):\n\u001B[0;32m    410\u001B[0m     \u001B[38;5;28;01mif\u001B[39;00m \u001B[38;5;129;01mnot\u001B[39;00m backends:\n\u001B[0;32m    411\u001B[0m         \u001B[38;5;66;03m# Fast path if no backends are installed\u001B[39;00m\n\u001B[1;32m--> 412\u001B[0m         \u001B[38;5;28;01mreturn\u001B[39;00m \u001B[38;5;28mself\u001B[39m\u001B[38;5;241m.\u001B[39morig_func(\u001B[38;5;241m*\u001B[39margs, \u001B[38;5;241m*\u001B[39m\u001B[38;5;241m*\u001B[39mkwargs)\n\u001B[0;32m    414\u001B[0m     \u001B[38;5;66;03m# Use `backend_name` in this function instead of `backend`\u001B[39;00m\n\u001B[0;32m    415\u001B[0m     backend_name \u001B[38;5;241m=\u001B[39m backend\n",
      "File \u001B[1;32m~\\miniconda3\\envs\\swes\\Lib\\site-packages\\networkx\\algorithms\\centrality\\betweenness.py:136\u001B[0m, in \u001B[0;36mbetweenness_centrality\u001B[1;34m(G, k, normalized, weight, endpoints, seed)\u001B[0m\n\u001B[0;32m    133\u001B[0m \u001B[38;5;28;01mfor\u001B[39;00m s \u001B[38;5;129;01min\u001B[39;00m nodes:\n\u001B[0;32m    134\u001B[0m     \u001B[38;5;66;03m# single source shortest paths\u001B[39;00m\n\u001B[0;32m    135\u001B[0m     \u001B[38;5;28;01mif\u001B[39;00m weight \u001B[38;5;129;01mis\u001B[39;00m \u001B[38;5;28;01mNone\u001B[39;00m:  \u001B[38;5;66;03m# use BFS\u001B[39;00m\n\u001B[1;32m--> 136\u001B[0m         S, P, sigma, _ \u001B[38;5;241m=\u001B[39m _single_source_shortest_path_basic(G, s)\n\u001B[0;32m    137\u001B[0m     \u001B[38;5;28;01melse\u001B[39;00m:  \u001B[38;5;66;03m# use Dijkstra's algorithm\u001B[39;00m\n\u001B[0;32m    138\u001B[0m         S, P, sigma, _ \u001B[38;5;241m=\u001B[39m _single_source_dijkstra_path_basic(G, s, weight)\n",
      "File \u001B[1;32m~\\miniconda3\\envs\\swes\\Lib\\site-packages\\networkx\\algorithms\\centrality\\betweenness.py:270\u001B[0m, in \u001B[0;36m_single_source_shortest_path_basic\u001B[1;34m(G, s)\u001B[0m\n\u001B[0;32m    268\u001B[0m Dv \u001B[38;5;241m=\u001B[39m D[v]\n\u001B[0;32m    269\u001B[0m sigmav \u001B[38;5;241m=\u001B[39m sigma[v]\n\u001B[1;32m--> 270\u001B[0m \u001B[38;5;28;01mfor\u001B[39;00m w \u001B[38;5;129;01min\u001B[39;00m G[v]:\n\u001B[0;32m    271\u001B[0m     \u001B[38;5;28;01mif\u001B[39;00m w \u001B[38;5;129;01mnot\u001B[39;00m \u001B[38;5;129;01min\u001B[39;00m D:\n\u001B[0;32m    272\u001B[0m         Q\u001B[38;5;241m.\u001B[39mappend(w)\n",
      "File \u001B[1;32m~\\miniconda3\\envs\\swes\\Lib\\site-packages\\networkx\\classes\\coreviews.py:281\u001B[0m, in \u001B[0;36m<genexpr>\u001B[1;34m(.0)\u001B[0m\n\u001B[0;32m    279\u001B[0m \u001B[38;5;28;01mif\u001B[39;00m node_ok_shorter:\n\u001B[0;32m    280\u001B[0m     \u001B[38;5;28;01mreturn\u001B[39;00m (n \u001B[38;5;28;01mfor\u001B[39;00m n \u001B[38;5;129;01min\u001B[39;00m \u001B[38;5;28mself\u001B[39m\u001B[38;5;241m.\u001B[39mNODE_OK\u001B[38;5;241m.\u001B[39mnodes \u001B[38;5;28;01mif\u001B[39;00m n \u001B[38;5;129;01min\u001B[39;00m \u001B[38;5;28mself\u001B[39m\u001B[38;5;241m.\u001B[39m_atlas)\n\u001B[1;32m--> 281\u001B[0m \u001B[38;5;28;01mreturn\u001B[39;00m (n \u001B[38;5;28;01mfor\u001B[39;00m n \u001B[38;5;129;01min\u001B[39;00m \u001B[38;5;28mself\u001B[39m\u001B[38;5;241m.\u001B[39m_atlas \u001B[38;5;28;01mif\u001B[39;00m \u001B[38;5;28mself\u001B[39m\u001B[38;5;241m.\u001B[39mNODE_OK(n))\n",
      "File \u001B[1;32m~\\miniconda3\\envs\\swes\\Lib\\site-packages\\networkx\\classes\\coreviews.py:317\u001B[0m, in \u001B[0;36mFilterAdjacency.__getitem__.<locals>.new_node_ok\u001B[1;34m(nbr)\u001B[0m\n\u001B[0;32m    316\u001B[0m \u001B[38;5;28;01mdef\u001B[39;00m \u001B[38;5;21mnew_node_ok\u001B[39m(nbr):\n\u001B[1;32m--> 317\u001B[0m     \u001B[38;5;28;01mreturn\u001B[39;00m \u001B[38;5;28mself\u001B[39m\u001B[38;5;241m.\u001B[39mNODE_OK(nbr) \u001B[38;5;129;01mand\u001B[39;00m \u001B[38;5;28mself\u001B[39m\u001B[38;5;241m.\u001B[39mEDGE_OK(node, nbr)\n",
      "File \u001B[1;32m~\\miniconda3\\envs\\swes\\Lib\\site-packages\\networkx\\classes\\filters.py:54\u001B[0m, in \u001B[0;36mshow_nodes.__call__\u001B[1;34m(self, node)\u001B[0m\n\u001B[0;32m     51\u001B[0m \u001B[38;5;28;01mdef\u001B[39;00m \u001B[38;5;21m__init__\u001B[39m(\u001B[38;5;28mself\u001B[39m, nodes):\n\u001B[0;32m     52\u001B[0m     \u001B[38;5;28mself\u001B[39m\u001B[38;5;241m.\u001B[39mnodes \u001B[38;5;241m=\u001B[39m \u001B[38;5;28mset\u001B[39m(nodes)\n\u001B[1;32m---> 54\u001B[0m \u001B[38;5;28;01mdef\u001B[39;00m \u001B[38;5;21m__call__\u001B[39m(\u001B[38;5;28mself\u001B[39m, node):\n\u001B[0;32m     55\u001B[0m     \u001B[38;5;28;01mreturn\u001B[39;00m node \u001B[38;5;129;01min\u001B[39;00m \u001B[38;5;28mself\u001B[39m\u001B[38;5;241m.\u001B[39mnodes\n",
      "\u001B[1;31mKeyboardInterrupt\u001B[0m: "
     ]
    }
   ],
   "source": [
    "betweenness = nx.betweenness_centrality(G_EAT)\n",
    "sorted_nodes_betweenness = sorted(betweenness.items(), key=lambda x:x[1], reverse=True)\n",
    "sorted_nodes_betweenness[0:10]"
   ],
   "metadata": {
    "collapsed": false,
    "ExecuteTime": {
     "end_time": "2024-05-16T22:01:06.883777400Z",
     "start_time": "2024-05-16T21:57:47.979607900Z"
    }
   },
   "id": "a75909034ea99ca9"
  },
  {
   "cell_type": "code",
   "execution_count": 79,
   "outputs": [
    {
     "ename": "KeyboardInterrupt",
     "evalue": "",
     "output_type": "error",
     "traceback": [
      "\u001B[1;31m---------------------------------------------------------------------------\u001B[0m",
      "\u001B[1;31mKeyboardInterrupt\u001B[0m                         Traceback (most recent call last)",
      "Cell \u001B[1;32mIn[79], line 1\u001B[0m\n\u001B[1;32m----> 1\u001B[0m closeness \u001B[38;5;241m=\u001B[39m nx\u001B[38;5;241m.\u001B[39mcloseness_centrality(G_EAT)\n\u001B[0;32m      2\u001B[0m sorted_nodes_closeness \u001B[38;5;241m=\u001B[39m \u001B[38;5;28msorted\u001B[39m(closeness\u001B[38;5;241m.\u001B[39mitems(), key\u001B[38;5;241m=\u001B[39m\u001B[38;5;28;01mlambda\u001B[39;00m x:x[\u001B[38;5;241m1\u001B[39m], reverse\u001B[38;5;241m=\u001B[39m\u001B[38;5;28;01mTrue\u001B[39;00m)\n\u001B[0;32m      3\u001B[0m sorted_nodes_closeness[\u001B[38;5;241m0\u001B[39m:\u001B[38;5;241m10\u001B[39m]\n",
      "File \u001B[1;32m~\\miniconda3\\envs\\swes\\Lib\\site-packages\\networkx\\utils\\backends.py:412\u001B[0m, in \u001B[0;36m_dispatch.__call__\u001B[1;34m(self, backend, *args, **kwargs)\u001B[0m\n\u001B[0;32m    409\u001B[0m \u001B[38;5;28;01mdef\u001B[39;00m \u001B[38;5;21m__call__\u001B[39m(\u001B[38;5;28mself\u001B[39m, \u001B[38;5;241m/\u001B[39m, \u001B[38;5;241m*\u001B[39margs, backend\u001B[38;5;241m=\u001B[39m\u001B[38;5;28;01mNone\u001B[39;00m, \u001B[38;5;241m*\u001B[39m\u001B[38;5;241m*\u001B[39mkwargs):\n\u001B[0;32m    410\u001B[0m     \u001B[38;5;28;01mif\u001B[39;00m \u001B[38;5;129;01mnot\u001B[39;00m backends:\n\u001B[0;32m    411\u001B[0m         \u001B[38;5;66;03m# Fast path if no backends are installed\u001B[39;00m\n\u001B[1;32m--> 412\u001B[0m         \u001B[38;5;28;01mreturn\u001B[39;00m \u001B[38;5;28mself\u001B[39m\u001B[38;5;241m.\u001B[39morig_func(\u001B[38;5;241m*\u001B[39margs, \u001B[38;5;241m*\u001B[39m\u001B[38;5;241m*\u001B[39mkwargs)\n\u001B[0;32m    414\u001B[0m     \u001B[38;5;66;03m# Use `backend_name` in this function instead of `backend`\u001B[39;00m\n\u001B[0;32m    415\u001B[0m     backend_name \u001B[38;5;241m=\u001B[39m backend\n",
      "File \u001B[1;32m~\\miniconda3\\envs\\swes\\Lib\\site-packages\\networkx\\algorithms\\centrality\\closeness.py:123\u001B[0m, in \u001B[0;36mcloseness_centrality\u001B[1;34m(G, u, distance, wf_improved)\u001B[0m\n\u001B[0;32m    121\u001B[0m closeness_dict \u001B[38;5;241m=\u001B[39m {}\n\u001B[0;32m    122\u001B[0m \u001B[38;5;28;01mfor\u001B[39;00m n \u001B[38;5;129;01min\u001B[39;00m nodes:\n\u001B[1;32m--> 123\u001B[0m     sp \u001B[38;5;241m=\u001B[39m path_length(G, n)\n\u001B[0;32m    124\u001B[0m     totsp \u001B[38;5;241m=\u001B[39m \u001B[38;5;28msum\u001B[39m(sp\u001B[38;5;241m.\u001B[39mvalues())\n\u001B[0;32m    125\u001B[0m     len_G \u001B[38;5;241m=\u001B[39m \u001B[38;5;28mlen\u001B[39m(G)\n",
      "File \u001B[1;32m~\\miniconda3\\envs\\swes\\Lib\\site-packages\\networkx\\utils\\backends.py:412\u001B[0m, in \u001B[0;36m_dispatch.__call__\u001B[1;34m(self, backend, *args, **kwargs)\u001B[0m\n\u001B[0;32m    409\u001B[0m \u001B[38;5;28;01mdef\u001B[39;00m \u001B[38;5;21m__call__\u001B[39m(\u001B[38;5;28mself\u001B[39m, \u001B[38;5;241m/\u001B[39m, \u001B[38;5;241m*\u001B[39margs, backend\u001B[38;5;241m=\u001B[39m\u001B[38;5;28;01mNone\u001B[39;00m, \u001B[38;5;241m*\u001B[39m\u001B[38;5;241m*\u001B[39mkwargs):\n\u001B[0;32m    410\u001B[0m     \u001B[38;5;28;01mif\u001B[39;00m \u001B[38;5;129;01mnot\u001B[39;00m backends:\n\u001B[0;32m    411\u001B[0m         \u001B[38;5;66;03m# Fast path if no backends are installed\u001B[39;00m\n\u001B[1;32m--> 412\u001B[0m         \u001B[38;5;28;01mreturn\u001B[39;00m \u001B[38;5;28mself\u001B[39m\u001B[38;5;241m.\u001B[39morig_func(\u001B[38;5;241m*\u001B[39margs, \u001B[38;5;241m*\u001B[39m\u001B[38;5;241m*\u001B[39mkwargs)\n\u001B[0;32m    414\u001B[0m     \u001B[38;5;66;03m# Use `backend_name` in this function instead of `backend`\u001B[39;00m\n\u001B[0;32m    415\u001B[0m     backend_name \u001B[38;5;241m=\u001B[39m backend\n",
      "File \u001B[1;32m~\\miniconda3\\envs\\swes\\Lib\\site-packages\\networkx\\algorithms\\shortest_paths\\unweighted.py:62\u001B[0m, in \u001B[0;36msingle_source_shortest_path_length\u001B[1;34m(G, source, cutoff)\u001B[0m\n\u001B[0;32m     60\u001B[0m     cutoff \u001B[38;5;241m=\u001B[39m \u001B[38;5;28mfloat\u001B[39m(\u001B[38;5;124m\"\u001B[39m\u001B[38;5;124minf\u001B[39m\u001B[38;5;124m\"\u001B[39m)\n\u001B[0;32m     61\u001B[0m nextlevel \u001B[38;5;241m=\u001B[39m [source]\n\u001B[1;32m---> 62\u001B[0m \u001B[38;5;28;01mreturn\u001B[39;00m \u001B[38;5;28mdict\u001B[39m(_single_shortest_path_length(G\u001B[38;5;241m.\u001B[39m_adj, nextlevel, cutoff))\n",
      "File \u001B[1;32m~\\miniconda3\\envs\\swes\\Lib\\site-packages\\networkx\\algorithms\\shortest_paths\\unweighted.py:89\u001B[0m, in \u001B[0;36m_single_shortest_path_length\u001B[1;34m(adj, firstlevel, cutoff)\u001B[0m\n\u001B[0;32m     87\u001B[0m nextlevel \u001B[38;5;241m=\u001B[39m []\n\u001B[0;32m     88\u001B[0m \u001B[38;5;28;01mfor\u001B[39;00m v \u001B[38;5;129;01min\u001B[39;00m thislevel:\n\u001B[1;32m---> 89\u001B[0m     \u001B[38;5;28;01mfor\u001B[39;00m w \u001B[38;5;129;01min\u001B[39;00m adj[v]:\n\u001B[0;32m     90\u001B[0m         \u001B[38;5;28;01mif\u001B[39;00m w \u001B[38;5;129;01mnot\u001B[39;00m \u001B[38;5;129;01min\u001B[39;00m seen:\n\u001B[0;32m     91\u001B[0m             seen\u001B[38;5;241m.\u001B[39madd(w)\n",
      "File \u001B[1;32m~\\miniconda3\\envs\\swes\\Lib\\site-packages\\networkx\\classes\\coreviews.py:319\u001B[0m, in \u001B[0;36mFilterAdjacency.__getitem__\u001B[1;34m(self, node)\u001B[0m\n\u001B[0;32m    316\u001B[0m     \u001B[38;5;28;01mdef\u001B[39;00m \u001B[38;5;21mnew_node_ok\u001B[39m(nbr):\n\u001B[0;32m    317\u001B[0m         \u001B[38;5;28;01mreturn\u001B[39;00m \u001B[38;5;28mself\u001B[39m\u001B[38;5;241m.\u001B[39mNODE_OK(nbr) \u001B[38;5;129;01mand\u001B[39;00m \u001B[38;5;28mself\u001B[39m\u001B[38;5;241m.\u001B[39mEDGE_OK(node, nbr)\n\u001B[1;32m--> 319\u001B[0m     \u001B[38;5;28;01mreturn\u001B[39;00m FilterAtlas(\u001B[38;5;28mself\u001B[39m\u001B[38;5;241m.\u001B[39m_atlas[node], new_node_ok)\n\u001B[0;32m    320\u001B[0m \u001B[38;5;28;01mraise\u001B[39;00m \u001B[38;5;167;01mKeyError\u001B[39;00m(\u001B[38;5;124mf\u001B[39m\u001B[38;5;124m\"\u001B[39m\u001B[38;5;124mKey \u001B[39m\u001B[38;5;132;01m{\u001B[39;00mnode\u001B[38;5;132;01m}\u001B[39;00m\u001B[38;5;124m not found\u001B[39m\u001B[38;5;124m\"\u001B[39m)\n",
      "\u001B[1;31mKeyboardInterrupt\u001B[0m: "
     ]
    }
   ],
   "source": [
    "closeness = nx.closeness_centrality(G_EAT)\n",
    "sorted_nodes_closeness = sorted(closeness.items(), key=lambda x:x[1], reverse=True)\n",
    "sorted_nodes_closeness[0:10]"
   ],
   "metadata": {
    "collapsed": false,
    "ExecuteTime": {
     "end_time": "2024-05-16T22:04:55.106885800Z",
     "start_time": "2024-05-16T22:01:09.193473600Z"
    }
   },
   "id": "c4b1d389d968919d"
  },
  {
   "cell_type": "code",
   "execution_count": null,
   "outputs": [],
   "source": [
    "degrees = nx.degree_centrality(G_EAT)\n",
    "sorted_nodes_degrees = sorted(degrees.items(), key=lambda x:x[1], reverse=True)\n",
    "sorted_nodes_degrees[0:10]"
   ],
   "metadata": {
    "collapsed": false
   },
   "id": "f3aa3a440d331212"
  },
  {
   "cell_type": "markdown",
   "source": [],
   "metadata": {
    "collapsed": false
   },
   "id": "f5802b2f46b9d04b"
  }
 ],
 "metadata": {
  "kernelspec": {
   "display_name": "Python 3",
   "language": "python",
   "name": "python3"
  },
  "language_info": {
   "codemirror_mode": {
    "name": "ipython",
    "version": 2
   },
   "file_extension": ".py",
   "mimetype": "text/x-python",
   "name": "python",
   "nbconvert_exporter": "python",
   "pygments_lexer": "ipython2",
   "version": "2.7.6"
  }
 },
 "nbformat": 4,
 "nbformat_minor": 5
}
